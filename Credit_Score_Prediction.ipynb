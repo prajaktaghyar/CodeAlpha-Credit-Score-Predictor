{
 "cells": [
  {
   "cell_type": "code",
   "execution_count": 1,
   "id": "2c02c1c6-a66e-4489-b984-46983e20be85",
   "metadata": {},
   "outputs": [],
   "source": [
    "import pandas as pd\n",
    "import numpy as np\n",
    "from sklearn.model_selection import train_test_split\n",
    "from sklearn.preprocessing import StandardScaler\n",
    "from sklearn.metrics import classification_report, roc_auc_score\n",
    "from sklearn.linear_model import LogisticRegression\n",
    "from sklearn.tree import DecisionTreeClassifier\n",
    "from sklearn.ensemble import RandomForestClassifier"
   ]
  },
  {
   "cell_type": "code",
   "execution_count": 2,
   "id": "e5a2b915-aae1-421e-a425-a22536ebce04",
   "metadata": {},
   "outputs": [],
   "source": [
    "np.random.seed(42)\n",
    "data = pd.DataFrame({\n",
    "    'income': np.random.randint(20000, 100000, 1000),\n",
    "    'debt': np.random.randint(1000, 30000, 1000),\n",
    "    'payment_history': np.random.choice([0, 1], size=1000),  # 0 = poor, 1 = good\n",
    "    'creditworthy': np.random.choice([0, 1], size=1000)  # 0 = not creditworthy, 1 = creditworthy\n",
    "})"
   ]
  },
  {
   "cell_type": "code",
   "execution_count": 3,
   "id": "ff089d7e-6067-496c-bd4f-3898e5f3285b",
   "metadata": {},
   "outputs": [],
   "source": [
    "X = data[['income', 'debt', 'payment_history']]\n",
    "y = data['creditworthy']"
   ]
  },
  {
   "cell_type": "code",
   "execution_count": 4,
   "id": "b3de91e9-4868-4c6f-97b7-08532eca188d",
   "metadata": {},
   "outputs": [],
   "source": [
    "scaler = StandardScaler()\n",
    "X_scaled = scaler.fit_transform(X)"
   ]
  },
  {
   "cell_type": "code",
   "execution_count": 5,
   "id": "cc16f107-b71e-4455-b794-69fb6868cc5e",
   "metadata": {},
   "outputs": [],
   "source": [
    "X_train, X_test, y_train, y_test = train_test_split(X_scaled, y, test_size=0.2, random_state=42)"
   ]
  },
  {
   "cell_type": "code",
   "execution_count": 6,
   "id": "c46aee6d-0b16-4f43-ae2b-ef8c7f6fc6e9",
   "metadata": {},
   "outputs": [],
   "source": [
    "models = {\n",
    "    \"Logistic Regression\": LogisticRegression(),\n",
    "    \"Decision Tree\": DecisionTreeClassifier(),\n",
    "    \"Random Forest\": RandomForestClassifier()\n",
    "}"
   ]
  },
  {
   "cell_type": "code",
   "execution_count": 7,
   "id": "6a9520a1-d40c-4a35-9128-0d030187b223",
   "metadata": {},
   "outputs": [
    {
     "name": "stdout",
     "output_type": "stream",
     "text": [
      "\n",
      "🧠 Model: Logistic Regression\n",
      "\n",
      "🧠 Model: Decision Tree\n",
      "\n",
      "🧠 Model: Random Forest\n"
     ]
    }
   ],
   "source": [
    "for name, model in models.items():\n",
    "    print(f\"\\n🧠 Model: {name}\")\n",
    "    model.fit(X_train, y_train)\n",
    "    y_pred = model.predict(X_test)\n",
    "    y_prob = model.predict_proba(X_test)[:, 1] if hasattr(model, \"predict_proba\") else y_pred"
   ]
  },
  {
   "cell_type": "code",
   "execution_count": 8,
   "id": "16024b4a-35a4-4381-9082-e6ee3d99d37d",
   "metadata": {},
   "outputs": [
    {
     "name": "stdout",
     "output_type": "stream",
     "text": [
      "Classification Report:\n",
      "               precision    recall  f1-score   support\n",
      "\n",
      "           0       0.49      0.42      0.45       106\n",
      "           1       0.44      0.50      0.47        94\n",
      "\n",
      "    accuracy                           0.46       200\n",
      "   macro avg       0.46      0.46      0.46       200\n",
      "weighted avg       0.46      0.46      0.46       200\n",
      "\n",
      "ROC-AUC Score: 0.46141107988759533\n"
     ]
    }
   ],
   "source": [
    "    print(\"Classification Report:\\n\", classification_report(y_test, y_pred))\n",
    "    print(\"ROC-AUC Score:\", roc_auc_score(y_test, y_prob))"
   ]
  },
  {
   "cell_type": "code",
   "execution_count": 9,
   "id": "5ee13c23-c850-4981-8524-cb48c11d819d",
   "metadata": {},
   "outputs": [
    {
     "name": "stdout",
     "output_type": "stream",
     "text": [
      "Accuracy: 0.46\n"
     ]
    }
   ],
   "source": [
    "accuracy = model.score(X_test, y_test)\n",
    "print(\"Accuracy:\", accuracy)\n"
   ]
  },
  {
   "cell_type": "code",
   "execution_count": 10,
   "id": "cdd1b1c5-a698-4f15-b3f9-413987a7b7ca",
   "metadata": {},
   "outputs": [
    {
     "name": "stdout",
     "output_type": "stream",
     "text": [
      "\n",
      "🔍 Enter user details to predict creditworthiness:\n"
     ]
    },
    {
     "name": "stdin",
     "output_type": "stream",
     "text": [
      "Enter Income:  60000\n",
      "Enter Debt:  15000\n",
      "Enter Payment History (1 = Good, 0 = Poor):  1\n"
     ]
    },
    {
     "name": "stdout",
     "output_type": "stream",
     "text": [
      "\n",
      "🧾 Prediction Result:\n",
      "Creditworthy ✅\n",
      "Confidence Score: 68.0%\n"
     ]
    }
   ],
   "source": [
    "\n",
    "print(\"\\n🔍 Enter user details to predict creditworthiness:\")\n",
    "try:\n",
    "    income = float(input(\"Enter Income: \"))\n",
    "    debt = float(input(\"Enter Debt: \"))\n",
    "    payment_history = int(input(\"Enter Payment History (1 = Good, 0 = Poor): \"))\n",
    "\n",
    "    # Fix warning: use DataFrame with column names\n",
    "    user_input_df = pd.DataFrame(\n",
    "        [[income, debt, payment_history]],\n",
    "        columns=['income', 'debt', 'payment_history']\n",
    "    )\n",
    "    user_input = scaler.transform(user_input_df)\n",
    "\n",
    "    # Prediction using Random Forest (best model)\n",
    "    best_model = models[\"Random Forest\"]\n",
    "    prediction = best_model.predict(user_input)[0]\n",
    "    probability = best_model.predict_proba(user_input)[0][1]\n",
    "\n",
    "    print(\"\\n🧾 Prediction Result:\")\n",
    "    print(\"Creditworthy ✅\" if prediction == 1 else \"Not Creditworthy ❌\")\n",
    "    print(f\"Confidence Score: {round(probability * 100, 2)}%\")\n",
    "\n",
    "except Exception as e:\n",
    "    print(\"❌ Invalid input:\", e)\n"
   ]
  },
  {
   "cell_type": "code",
   "execution_count": null,
   "id": "0da22b58-2b3a-4fb1-b6c4-40bb8bc6a4e0",
   "metadata": {},
   "outputs": [],
   "source": []
  }
 ],
 "metadata": {
  "kernelspec": {
   "display_name": "Python 3 (ipykernel)",
   "language": "python",
   "name": "python3"
  },
  "language_info": {
   "codemirror_mode": {
    "name": "ipython",
    "version": 3
   },
   "file_extension": ".py",
   "mimetype": "text/x-python",
   "name": "python",
   "nbconvert_exporter": "python",
   "pygments_lexer": "ipython3",
   "version": "3.12.4"
  }
 },
 "nbformat": 4,
 "nbformat_minor": 5
}
